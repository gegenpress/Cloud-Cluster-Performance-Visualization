{
 "cells": [
  {
   "cell_type": "code",
   "execution_count": 1,
   "metadata": {},
   "outputs": [],
   "source": [
    "import math\n",
    "#def cosine_similarity(v1,v2):\n",
    "#    sumxx, sumxy, sumyy = 0, 0, 0\n",
    "#    for i in range(v1):\n",
    "#        x = v1[i]; y = v2[i]\n",
    "#        sumxx += x*x\n",
    "#        sumyy += y*y\n",
    "#        sumxy += x*y\n",
    "#    return sumxy/math.sqrt(sumxx*sumyy)\n"
   ]
  },
  {
   "cell_type": "code",
   "execution_count": 2,
   "metadata": {},
   "outputs": [],
   "source": [
    "import pandas as pd"
   ]
  },
  {
   "cell_type": "code",
   "execution_count": 43,
   "metadata": {},
   "outputs": [],
   "source": [
    "data1 = pd.read_csv(\"Node 1.csv\", usecols = [i for i in data1 if i!= 'timestamp']) \n",
    "data2 = pd.read_csv(\"Node 7.csv\",usecols = [i for i in data2 if i!= 'timestamp'])"
   ]
  },
  {
   "cell_type": "code",
   "execution_count": 44,
   "metadata": {},
   "outputs": [],
   "source": [
    "df1 = pd.DataFrame(data1)\n",
    "df2 = pd.DataFrame(data2)"
   ]
  },
  {
   "cell_type": "code",
   "execution_count": 45,
   "metadata": {},
   "outputs": [],
   "source": [
    "dfsum1 = pd.DataFrame(df1.sum(axis = 1))\n",
    "dfsum2 = pd.DataFrame(df2.sum(axis = 1))\n",
    "\n"
   ]
  },
  {
   "cell_type": "code",
   "execution_count": 46,
   "metadata": {},
   "outputs": [
    {
     "data": {
      "text/plain": [
       "0    104.45\n",
       "Name: 0, dtype: float64"
      ]
     },
     "execution_count": 46,
     "metadata": {},
     "output_type": "execute_result"
    }
   ],
   "source": [
    "dfsum1.iloc[0]\n",
    "dfsum2.iloc[0]"
   ]
  },
  {
   "cell_type": "code",
   "execution_count": 47,
   "metadata": {},
   "outputs": [
    {
     "data": {
      "text/plain": [
       "[0.7299999999999898,\n",
       " 0.6999999999999886,\n",
       " 0.5999999999999943,\n",
       " 0.5999999999999943,\n",
       " 0.6999999999999886,\n",
       " 0.6999999999999886,\n",
       " 0.4999999999999858,\n",
       " 0.5999999999999943,\n",
       " 0.3999999999999915,\n",
       " 0.5999999999999943,\n",
       " 0.5999999999999943,\n",
       " 0.6999999999999886,\n",
       " 0.5,\n",
       " 0.5999999999999943,\n",
       " 0.960000000000008,\n",
       " 2.3400000000000034,\n",
       " 3.6000000000000085,\n",
       " 1.1700000000000017,\n",
       " 0.21000000000000796,\n",
       " 31.249999999999986,\n",
       " 30.53000000000003,\n",
       " 7.77000000000001,\n",
       " 1.4399999999999977,\n",
       " 0.5799999999999841,\n",
       " 2.6999999999999886,\n",
       " 2.819999999999993,\n",
       " 3.1799999999999926,\n",
       " 5.6899999999999835,\n",
       " 55.41,\n",
       " 1.6099999999999852,\n",
       " 9.730000000000018,\n",
       " 1.610000000000042,\n",
       " 1.1100000000000136,\n",
       " 0.28999999999999204,\n",
       " 1.1499999999999773,\n",
       " 1.1299999999999955,\n",
       " 0.9300000000000068,\n",
       " 0.13999999999998636,\n",
       " 0.3800000000000239,\n",
       " 1.1799999999999784,\n",
       " 0.3199999999999932,\n",
       " 1.8000000000000114,\n",
       " 0.37000000000000455,\n",
       " 0.030000000000001137,\n",
       " 1.2300000000000182,\n",
       " 0.27000000000003865,\n",
       " 0.14000000000001478,\n",
       " 0.6900000000000261,\n",
       " 0.5400000000000205,\n",
       " 1.0400000000000205,\n",
       " 1.240000000000009,\n",
       " 0.9200000000000159,\n",
       " 1.2800000000000011,\n",
       " 0.7199999999999989,\n",
       " 0.6899999999999693,\n",
       " 1.079999999999984,\n",
       " 0.8000000000000114,\n",
       " 1.2099999999999795,\n",
       " 0.6299999999999955,\n",
       " 0.8000000000000114,\n",
       " 1.2199999999999989,\n",
       " 0.4399999999999977,\n",
       " 0.9799999999999898,\n",
       " 0.5099999999999909,\n",
       " 0.6400000000000148,\n",
       " 0.1400000000000432,\n",
       " 1.9699999999999704,\n",
       " 0.7199999999999704,\n",
       " 1.3799999999999955,\n",
       " 1.170000000000016,\n",
       " 0.7199999999999704,\n",
       " 0.7899999999999636,\n",
       " 0.950000000000017,\n",
       " 1.0200000000000102,\n",
       " 0.11000000000001364,\n",
       " 1.710000000000008,\n",
       " 0.21000000000000796,\n",
       " 0.21000000000000796,\n",
       " 1.1299999999999955,\n",
       " 1.5599999999999739,\n",
       " 1.0,\n",
       " 1.5600000000000023,\n",
       " 1.4300000000000068,\n",
       " 1.1899999999999693,\n",
       " 1.879999999999967,\n",
       " 0.839999999999975,\n",
       " 1.539999999999992,\n",
       " 0.6599999999999966,\n",
       " 1.759999999999991,\n",
       " 0.8000000000000114,\n",
       " 3.859999999999985,\n",
       " 0.40999999999996817,\n",
       " 1.0599999999999739,\n",
       " 0.4900000000000091,\n",
       " 13.409999999999997,\n",
       " 0.22999999999998977,\n",
       " 1.0400000000000205,\n",
       " 60.97999999999999,\n",
       " 62.72999999999996,\n",
       " 19.079999999999984,\n",
       " 26.180000000000007,\n",
       " 23.97,\n",
       " 24.309999999999974,\n",
       " 15.679999999999978,\n",
       " 0.4399999999999977,\n",
       " 0.22000000000002728,\n",
       " 2.719999999999999,\n",
       " 1.8199999999999932,\n",
       " 1.9899999999999807,\n",
       " 2.3999999999999773,\n",
       " 1.8000000000000114,\n",
       " 1.7600000000000193,\n",
       " 1.9599999999999795,\n",
       " 1.7199999999999989,\n",
       " 2.230000000000018,\n",
       " 2.269999999999982,\n",
       " 2.1799999999999784,\n",
       " 2.3100000000000023,\n",
       " 2.109999999999985,\n",
       " 1.6499999999999986,\n",
       " 2.8300000000000125]"
      ]
     },
     "execution_count": 47,
     "metadata": {},
     "output_type": "execute_result"
    }
   ],
   "source": [
    "from scipy.spatial import distance\n",
    "result = list()\n",
    "for i in range(0,121):\n",
    "    similarity = distance.euclidean(dfsum1.iloc[i],dfsum2.iloc[i])\n",
    "    result.append(similarity)\n",
    "result"
   ]
  },
  {
   "cell_type": "code",
   "execution_count": 48,
   "metadata": {},
   "outputs": [
    {
     "data": {
      "text/plain": [
       "121"
      ]
     },
     "execution_count": 48,
     "metadata": {},
     "output_type": "execute_result"
    }
   ],
   "source": [
    "len(result)"
   ]
  },
  {
   "cell_type": "code",
   "execution_count": 49,
   "metadata": {},
   "outputs": [],
   "source": [
    "res = pd.DataFrame(result)\n",
    "res.to_csv('out6.csv')"
   ]
  },
  {
   "cell_type": "code",
   "execution_count": null,
   "metadata": {},
   "outputs": [],
   "source": []
  },
  {
   "cell_type": "code",
   "execution_count": null,
   "metadata": {},
   "outputs": [],
   "source": []
  }
 ],
 "metadata": {
  "kernelspec": {
   "display_name": "Python 3",
   "language": "python",
   "name": "python3"
  },
  "language_info": {
   "codemirror_mode": {
    "name": "ipython",
    "version": 3
   },
   "file_extension": ".py",
   "mimetype": "text/x-python",
   "name": "python",
   "nbconvert_exporter": "python",
   "pygments_lexer": "ipython3",
   "version": "3.6.7"
  }
 },
 "nbformat": 4,
 "nbformat_minor": 2
}
